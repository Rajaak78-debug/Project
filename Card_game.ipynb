{
 "cells": [
  {
   "cell_type": "code",
   "execution_count": 1,
   "id": "128167dd",
   "metadata": {},
   "outputs": [],
   "source": [
    "import random\n",
    "#Creating Suites,rank and values.\n",
    "suits = ('Hearts', 'Diamonds', ' Spades', ' Clubs')\n",
    "ranks = ('Two', 'Three', 'Four', 'Five', 'Six', 'Seven', 'Eight', 'Nine', 'Ten', 'Jack', 'Queen', 'King', 'Ace')\n",
    "values = {'Two':2, 'Three':3, 'Four':4, 'Five':5, 'Six':6, 'Seven':7, 'Eight':8, 'Nine':9, 'Ten':10, 'Jack':11, 'Queen':12, 'King':13, 'Ace':14}\n",
    "class Card:\n",
    "    def __init__(self,suit,rank):\n",
    "        self.suit= suit\n",
    "        self.rank=rank\n",
    "        self.values= values[rank]\n",
    "    def __str__(self):\n",
    "        return self.rank + \" of \"+ self.suit\n",
    "Hearts= Card('Queen', 'Three')"
   ]
  },
  {
   "cell_type": "code",
   "execution_count": 2,
   "id": "b01041b3",
   "metadata": {},
   "outputs": [
    {
     "name": "stdout",
     "output_type": "stream",
     "text": [
      "Three of Queen\n"
     ]
    }
   ],
   "source": [
    "print(Hearts)"
   ]
  },
  {
   "cell_type": "code",
   "execution_count": 3,
   "id": "a9aa0c52",
   "metadata": {},
   "outputs": [
    {
     "name": "stdout",
     "output_type": "stream",
     "text": [
      "Two of Hearts\n",
      "Three of Hearts\n",
      "Four of Hearts\n",
      "Five of Hearts\n",
      "Six of Hearts\n",
      "Seven of Hearts\n",
      "Eight of Hearts\n",
      "Nine of Hearts\n",
      "Ten of Hearts\n",
      "Jack of Hearts\n",
      "Queen of Hearts\n",
      "King of Hearts\n",
      "Ace of Hearts\n",
      "Two of Diamonds\n",
      "Three of Diamonds\n",
      "Four of Diamonds\n",
      "Five of Diamonds\n",
      "Six of Diamonds\n",
      "Seven of Diamonds\n",
      "Eight of Diamonds\n",
      "Nine of Diamonds\n",
      "Ten of Diamonds\n",
      "Jack of Diamonds\n",
      "Queen of Diamonds\n",
      "King of Diamonds\n",
      "Ace of Diamonds\n",
      "Two of  Spades\n",
      "Three of  Spades\n",
      "Four of  Spades\n",
      "Five of  Spades\n",
      "Six of  Spades\n",
      "Seven of  Spades\n",
      "Eight of  Spades\n",
      "Nine of  Spades\n",
      "Ten of  Spades\n",
      "Jack of  Spades\n",
      "Queen of  Spades\n",
      "King of  Spades\n",
      "Ace of  Spades\n",
      "Two of  Clubs\n",
      "Three of  Clubs\n",
      "Four of  Clubs\n",
      "Five of  Clubs\n",
      "Six of  Clubs\n",
      "Seven of  Clubs\n",
      "Eight of  Clubs\n",
      "Nine of  Clubs\n",
      "Ten of  Clubs\n",
      "Jack of  Clubs\n",
      "Queen of  Clubs\n",
      "King of  Clubs\n",
      "Ace of  Clubs\n"
     ]
    }
   ],
   "source": [
    "class Deck:\n",
    "    def __init__(self):\n",
    "        self.all_cards=[]\n",
    "        for suit in suits:\n",
    "            for rank in ranks:\n",
    "                created_card= Card(suit,rank)\n",
    "                self.all_cards.append(created_card)\n",
    "    def shuffle(self):\n",
    "        random.shuffle(self.all_cards)\n",
    "    def deal_one(self):\n",
    "        return self.all_cards.pop()\n",
    "deck= Deck()\n",
    "for card_object in deck.all_cards:\n",
    "    print(card_object)\n",
    "    \n"
   ]
  }
 ],
 "metadata": {
  "kernelspec": {
   "display_name": "Python 3",
   "language": "python",
   "name": "python3"
  },
  "language_info": {
   "codemirror_mode": {
    "name": "ipython",
    "version": 3
   },
   "file_extension": ".py",
   "mimetype": "text/x-python",
   "name": "python",
   "nbconvert_exporter": "python",
   "pygments_lexer": "ipython3",
   "version": "3.13.5"
  }
 },
 "nbformat": 4,
 "nbformat_minor": 5
}
